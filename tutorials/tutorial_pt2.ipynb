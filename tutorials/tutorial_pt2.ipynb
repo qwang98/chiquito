{
 "cells": [
  {
   "attachments": {},
   "cell_type": "markdown",
   "id": "11105438-f775-4ff5-a91c-b236aedd9eb1",
   "metadata": {},
   "source": [
    "# Part 2: Quick Start\n",
    "Chiquito's Python frontend requires using a Python virtual environment for its dependencies, which you should have setup following the [Python README](https://github.com/privacy-scaling-explorations/chiquito/tree/main/src/frontend/python/README.md).\n",
    "\n",
    "Specifically, after cloning Chiquito, you need to run the following commands in your local machine (NOT in Jupyter):\n",
    "```\n",
    "python3 -m venv .env # create virtual environment\n",
    "source .env/bin/activate # activate virtual environment\n",
    "pip install -r requirements.txt # install required python dependencies from requirements.txt\n",
    "maturin develop # build the project with rust bindings\n",
    "```\n",
    "\n",
    "Then install your local Python virtual environment as a Jupyter Lab Kernel called `pychiquito_kernel`. \n",
    "```\n",
    "python -m ipykernel install --user --name=chiquito_kernel\n",
    "```\n",
    "\n",
    "After that, run the following: \n",
    "```\n",
    "cd tutorials # navigate to the tutorials subfolder\n",
    "jupyter lab # launch jupyter notebook in browser\n",
    "```\n",
    "\n",
    "In browser, make sure you are using the Kernel we just created called `chiquito_kernel`, which you can change by going to the `Kernel` tab of Jupyter Lab's top menu bar and click `Change Kernel...`\n"
   ]
  }
 ],
 "metadata": {
  "kernelspec": {
   "display_name": "Python 3 (ipykernel)",
   "language": "python",
   "name": "python3"
  },
  "language_info": {
   "codemirror_mode": {
    "name": "ipython",
    "version": 3
   },
   "file_extension": ".py",
   "mimetype": "text/x-python",
   "name": "python",
   "nbconvert_exporter": "python",
   "pygments_lexer": "ipython3",
   "version": "3.11.4"
  }
 },
 "nbformat": 4,
 "nbformat_minor": 5
}
